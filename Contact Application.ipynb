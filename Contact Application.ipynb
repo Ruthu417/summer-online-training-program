{
 "cells": [
  {
   "cell_type": "code",
   "execution_count": 1,
   "metadata": {},
   "outputs": [
    {
     "name": "stdout",
     "output_type": "stream",
     "text": [
      "contact Ruthu added\n"
     ]
    }
   ],
   "source": [
    "contacts={}\n",
    "def add_contact(name,num):\n",
    "    if name in contacts:\n",
    "        print(name,\"already exist\")\n",
    "    else:\n",
    "        contacts[name]=num\n",
    "        print('contact',name, 'added')\n",
    "add_contact('Ruthu',8500602294)\n",
    "\n",
    "def delete_contact(name):\n",
    "    if name in contacts:\n",
    "        contacts.pop(name)\n",
    "        print('contact',name,'deleted')\n",
    "        \n",
    "#delete_contact('Ruthu')\n",
    "def search_contact(name):\n",
    "    if name in contacts:\n",
    "        print(name,contacts[name],sep=\":\")\n",
    "    else:\n",
    "        print('contact is not there')\n",
    "#search_contact('vanitha')\n",
    "def edit_contact(name):\n",
    "    if name in contacts:\n",
    "        print(contacts[name])\n",
    "        num=int(input('New number:'))\n",
    "        contacts[name]=num\n",
    "        print('Contact updated')\n",
    "#edit_contact('Ruthu') "
   ]
  },
  {
   "cell_type": "code",
   "execution_count": 2,
   "metadata": {
    "scrolled": true
   },
   "outputs": [
    {
     "data": {
      "text/plain": [
       "{'Ruthu': 8500602294}"
      ]
     },
     "execution_count": 2,
     "metadata": {},
     "output_type": "execute_result"
    }
   ],
   "source": [
    "contacts"
   ]
  },
  {
   "cell_type": "code",
   "execution_count": 3,
   "metadata": {},
   "outputs": [
    {
     "data": {
      "text/plain": [
       "{'Ruthu': 8500602294}"
      ]
     },
     "execution_count": 3,
     "metadata": {},
     "output_type": "execute_result"
    }
   ],
   "source": [
    "contacts"
   ]
  },
  {
   "cell_type": "code",
   "execution_count": 4,
   "metadata": {},
   "outputs": [
    {
     "name": "stdout",
     "output_type": "stream",
     "text": [
      "contact A added\n"
     ]
    }
   ],
   "source": [
    "add_contact('A',9876543210)"
   ]
  },
  {
   "cell_type": "code",
   "execution_count": 5,
   "metadata": {},
   "outputs": [
    {
     "data": {
      "text/plain": [
       "{'Ruthu': 8500602294, 'A': 9876543210}"
      ]
     },
     "execution_count": 5,
     "metadata": {},
     "output_type": "execute_result"
    }
   ],
   "source": [
    "contacts"
   ]
  },
  {
   "cell_type": "code",
   "execution_count": 6,
   "metadata": {},
   "outputs": [
    {
     "name": "stdout",
     "output_type": "stream",
     "text": [
      "A:9876543210\n"
     ]
    }
   ],
   "source": [
    "search_contact('A')"
   ]
  },
  {
   "cell_type": "code",
   "execution_count": 7,
   "metadata": {},
   "outputs": [
    {
     "name": "stdout",
     "output_type": "stream",
     "text": [
      "8500602294\n",
      "New number:7013340072\n",
      "Contact updated\n"
     ]
    }
   ],
   "source": [
    "edit_contact('Ruthu')"
   ]
  },
  {
   "cell_type": "code",
   "execution_count": 8,
   "metadata": {},
   "outputs": [
    {
     "data": {
      "text/plain": [
       "{'Ruthu': 7013340072, 'A': 9876543210}"
      ]
     },
     "execution_count": 8,
     "metadata": {},
     "output_type": "execute_result"
    }
   ],
   "source": [
    "contacts"
   ]
  },
  {
   "cell_type": "code",
   "execution_count": null,
   "metadata": {},
   "outputs": [],
   "source": [
    "contacts.get('Ruthu') # searching contact"
   ]
  },
  {
   "cell_type": "code",
   "execution_count": null,
   "metadata": {},
   "outputs": [],
   "source": [
    "add_contact('Ruthu',8332935256)"
   ]
  },
  {
   "cell_type": "code",
   "execution_count": null,
   "metadata": {},
   "outputs": [],
   "source": [
    "add_contact('Anji J',8919435303)\n",
    "add_contact('Akka',6300137600)"
   ]
  },
  {
   "cell_type": "code",
   "execution_count": null,
   "metadata": {},
   "outputs": [],
   "source": [
    "contacts"
   ]
  },
  {
   "cell_type": "code",
   "execution_count": null,
   "metadata": {},
   "outputs": [],
   "source": [
    "add_contact('Prabhudas Sir',9441471584)\n",
    "add_contact('66',8332935256)\n",
    "add_contact('Siva Annaya',8185886447)\n",
    "add_contact('Siva Annya J',8074377978)"
   ]
  },
  {
   "cell_type": "code",
   "execution_count": null,
   "metadata": {},
   "outputs": [],
   "source": [
    "contacts"
   ]
  },
  {
   "cell_type": "markdown",
   "metadata": {
    "collapsed": true
   },
   "source": [
    "### Menu Card"
   ]
  },
  {
   "cell_type": "code",
   "execution_count": 1,
   "metadata": {
    "collapsed": true
   },
   "outputs": [
    {
     "name": "stdout",
     "output_type": "stream",
     "text": [
      "Item avaialble....\n",
      "Idly Rs. 20 /-\n",
      "Dosa Rs. 25 /-\n",
      "Roti Rs. 20 /-\n",
      "Chapati Rs. 25 /-\n",
      "Gaare Rs. 20 /-\n",
      "Plate Meals Rs. 50 /-\n",
      "Full Meals Rs. 70 /-\n",
      "Pulihora Rs. 30 /-\n",
      "Fried Rice Rs. 50 /-\n",
      "Noodles Rs. 40 /-\n",
      "Tea Rs. 10 /-\n",
      "Coffee Rs. 15 /-\n",
      "Any Cool Drink Rs. 20 /-\n",
      "Give your order:Gaare,snacks\n",
      "Sorry! snacks not available\n",
      "Total bill= Rs. 20 /-\n"
     ]
    }
   ],
   "source": [
    "menu={'Idly':20,'Dosa':25,'Roti':20,'Chapati':25,'Gaare':20,\n",
    "      'Plate Meals':50,'Full Meals':70,'Pulihora':30,'Fried Rice':50,'Noodles':40,\n",
    "      'Tea':10,'Coffee':15,'Any Cool Drink':20}\n",
    "print('Item avaialble....')\n",
    "for item,price in menu.items():\n",
    "    print(item,'Rs.',price,'/-')\n",
    "order=input('Give your order:').split(',')\n",
    "bill=0\n",
    "for item in order:\n",
    "    if item in menu.keys():\n",
    "        bill+=menu[item]\n",
    "    else:\n",
    "        print('Sorry!',item,'not available')\n",
    "print('Total bill=','Rs.',bill,'/-')"
   ]
  },
  {
   "cell_type": "code",
   "execution_count": 2,
   "metadata": {},
   "outputs": [],
   "source": [
    "# menu card by using lists"
   ]
  },
  {
   "cell_type": "code",
   "execution_count": 4,
   "metadata": {
    "collapsed": true
   },
   "outputs": [
    {
     "name": "stdout",
     "output_type": "stream",
     "text": [
      "dict_items([('Idly', 20), ('Dosa', 25), ('Roti', 20), ('Chapati', 25), ('Gaare', 20), ('Plate Meals', 50), ('Full Meals', 70), ('Pulihora', 30), ('Fried Rice', 50), ('Noodles', 40), ('Tea', 10), ('Coffee', 15), ('Any Cool Drink', 20)])\n"
     ]
    }
   ],
   "source": [
    "print(menu.items())"
   ]
  },
  {
   "cell_type": "code",
   "execution_count": null,
   "metadata": {},
   "outputs": [],
   "source": []
  },
  {
   "cell_type": "code",
   "execution_count": null,
   "metadata": {},
   "outputs": [],
   "source": []
  },
  {
   "cell_type": "code",
   "execution_count": null,
   "metadata": {},
   "outputs": [],
   "source": []
  },
  {
   "cell_type": "code",
   "execution_count": null,
   "metadata": {},
   "outputs": [],
   "source": []
  },
  {
   "cell_type": "code",
   "execution_count": null,
   "metadata": {},
   "outputs": [],
   "source": []
  },
  {
   "cell_type": "markdown",
   "metadata": {},
   "source": [
    "### Menu Card"
   ]
  },
  {
   "cell_type": "code",
   "execution_count": null,
   "metadata": {},
   "outputs": [],
   "source": []
  },
  {
   "cell_type": "code",
   "execution_count": null,
   "metadata": {},
   "outputs": [],
   "source": [
    "dic={'k':'hi','l':'ey','m':'hello'}\n",
    "for item in dic:\n",
    "    print(item)"
   ]
  },
  {
   "cell_type": "code",
   "execution_count": null,
   "metadata": {},
   "outputs": [],
   "source": []
  },
  {
   "cell_type": "code",
   "execution_count": null,
   "metadata": {},
   "outputs": [],
   "source": []
  },
  {
   "cell_type": "code",
   "execution_count": null,
   "metadata": {},
   "outputs": [],
   "source": []
  },
  {
   "cell_type": "code",
   "execution_count": null,
   "metadata": {},
   "outputs": [],
   "source": []
  },
  {
   "cell_type": "code",
   "execution_count": null,
   "metadata": {},
   "outputs": [],
   "source": []
  },
  {
   "cell_type": "code",
   "execution_count": null,
   "metadata": {},
   "outputs": [],
   "source": []
  },
  {
   "cell_type": "code",
   "execution_count": null,
   "metadata": {},
   "outputs": [],
   "source": []
  }
 ],
 "metadata": {
  "kernelspec": {
   "display_name": "Python 3",
   "language": "python",
   "name": "python3"
  },
  "language_info": {
   "codemirror_mode": {
    "name": "ipython",
    "version": 3
   },
   "file_extension": ".py",
   "mimetype": "text/x-python",
   "name": "python",
   "nbconvert_exporter": "python",
   "pygments_lexer": "ipython3",
   "version": "3.7.4"
  }
 },
 "nbformat": 4,
 "nbformat_minor": 2
}
