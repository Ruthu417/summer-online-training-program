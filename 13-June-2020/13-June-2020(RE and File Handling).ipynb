{
 "cells": [
  {
   "cell_type": "code",
   "execution_count": 1,
   "metadata": {},
   "outputs": [],
   "source": [
    "import re"
   ]
  },
  {
   "cell_type": "code",
   "execution_count": 2,
   "metadata": {},
   "outputs": [
    {
     "name": "stdout",
     "output_type": "stream",
     "text": [
      "<re.Match object; span=(0, 3), match='789'>\n"
     ]
    }
   ],
   "source": [
    "# '+' one or more occerences\n",
    "\n",
    "print(re.search(\"[0-9]+\",\"789sgh\"))"
   ]
  },
  {
   "cell_type": "code",
   "execution_count": 5,
   "metadata": {},
   "outputs": [
    {
     "name": "stdout",
     "output_type": "stream",
     "text": [
      "<re.Match object; span=(0, 4), match='asdf'>\n"
     ]
    }
   ],
   "source": [
    "print(re.search(\"[a-z]+\",\"asdf1223\"))"
   ]
  },
  {
   "cell_type": "code",
   "execution_count": 10,
   "metadata": {},
   "outputs": [
    {
     "name": "stdout",
     "output_type": "stream",
     "text": [
      "<re.Match object; span=(0, 2), match='17'>\n"
     ]
    }
   ],
   "source": [
    "#'{}'-- It gives you exactley number of occurences\n",
    "print(re.search('[0-9]{2}','17897893456789'))"
   ]
  },
  {
   "cell_type": "code",
   "execution_count": 13,
   "metadata": {},
   "outputs": [
    {
     "name": "stdout",
     "output_type": "stream",
     "text": [
      "<re.Match object; span=(0, 5), match='ghhfs'>\n"
     ]
    }
   ],
   "source": [
    "print(re.search('[a-z]{5}','ghhfshjkljsd34567778'))"
   ]
  },
  {
   "cell_type": "code",
   "execution_count": 29,
   "metadata": {},
   "outputs": [
    {
     "name": "stdout",
     "output_type": "stream",
     "text": [
      "<re.Match object; span=(0, 10), match='3788999345'>\n"
     ]
    }
   ],
   "source": [
    "# range passing with metacharater is {}\n",
    "print(re.search('[3-9]{10}',\"378899934567895\"))"
   ]
  },
  {
   "cell_type": "code",
   "execution_count": 31,
   "metadata": {},
   "outputs": [
    {
     "name": "stdout",
     "output_type": "stream",
     "text": [
      "<re.Match object; span=(3, 5), match='55'>\n"
     ]
    }
   ],
   "source": [
    "print(re.search('[5-9]{2,5}','28255'))\n"
   ]
  },
  {
   "cell_type": "code",
   "execution_count": 33,
   "metadata": {},
   "outputs": [
    {
     "data": {
      "text/plain": [
       "<re.Match object; span=(1, 3), match='12'>"
      ]
     },
     "execution_count": 33,
     "metadata": {},
     "output_type": "execute_result"
    }
   ],
   "source": [
    "#\\d ==checking digits\n",
    "re.search('\\d+',\"c12\")"
   ]
  },
  {
   "cell_type": "code",
   "execution_count": 39,
   "metadata": {
    "scrolled": true
   },
   "outputs": [
    {
     "name": "stdout",
     "output_type": "stream",
     "text": [
      "<re.Match object; span=(0, 1), match='1'>\n"
     ]
    }
   ],
   "source": [
    "#'\\w'--checking alphanumerics\n",
    "print(re.search('\\w',\"1pssdc123@\")) # \\w for alphabets in position of string"
   ]
  },
  {
   "cell_type": "code",
   "execution_count": 40,
   "metadata": {},
   "outputs": [
    {
     "name": "stdout",
     "output_type": "stream",
     "text": [
      "<re.Match object; span=(0, 1), match='A'>\n"
     ]
    }
   ],
   "source": [
    "print(re.search('\\w',\"Apssdc123@\"))"
   ]
  },
  {
   "cell_type": "code",
   "execution_count": 37,
   "metadata": {},
   "outputs": [
    {
     "name": "stdout",
     "output_type": "stream",
     "text": [
      "<re.Match object; span=(6, 7), match='@'>\n"
     ]
    }
   ],
   "source": [
    "print(re.search('\\W',\"apssdc@\")) #\\W for checking special character"
   ]
  },
  {
   "cell_type": "markdown",
   "metadata": {},
   "source": [
    "## Validation\n",
    "## Phone Number valiadation\n",
    "- length is 10\n",
    "- starts with 6,7,8,9\n",
    "- it have only digits\n",
    "- it can starts with +91 0r 0\n",
    "\n",
    "\n",
    "\n",
    "\n",
    "\n"
   ]
  },
  {
   "cell_type": "code",
   "execution_count": 48,
   "metadata": {},
   "outputs": [
    {
     "name": "stdout",
     "output_type": "stream",
     "text": [
      "<re.Match object; span=(0, 10), match='9848112233'>\n"
     ]
    }
   ],
   "source": [
    "p=\"^[6-9][0-9]{9}\"\n",
    "print(re.search(p,\"98481122338899\"))"
   ]
  },
  {
   "cell_type": "code",
   "execution_count": 63,
   "metadata": {},
   "outputs": [
    {
     "name": "stdout",
     "output_type": "stream",
     "text": [
      "<re.Match object; span=(0, 13), match='+916367849883'>\n"
     ]
    }
   ],
   "source": [
    "p=\"^[+][9][1][6-9][0-9]{9}$\"\n",
    "print(re.search(p,\"+916367849883\"))"
   ]
  },
  {
   "cell_type": "code",
   "execution_count": 70,
   "metadata": {},
   "outputs": [
    {
     "name": "stdout",
     "output_type": "stream",
     "text": [
      "\n",
      "not valid\n"
     ]
    }
   ],
   "source": [
    "pattern=\"^[6-9][0-9]{9}$|^[+][9][1][6-9][0-9]{9}$|^[0][6-9][0-9]{9}$\"\n",
    "s=input()\n",
    "if re.match(pattern,s):\n",
    "    print(\"valid phn number\")\n",
    "else:\n",
    "    print(\"not valid\")"
   ]
  },
  {
   "cell_type": "code",
   "execution_count": 71,
   "metadata": {},
   "outputs": [],
   "source": [
    "## task to check your roll nuber is valid\n",
    "## task to check  valid gamil "
   ]
  },
  {
   "cell_type": "markdown",
   "metadata": {},
   "source": [
    "### Email validation\n",
    "- username  length 8-15\n",
    "- username should contains alphanumerics #(madhavi1_34.m@apssdc.in)(117z1a0431.svce@gmail.com)\n",
    "- domian  length 5-10\n",
    "- domain acceptable characters a-z,A-Z"
   ]
  },
  {
   "cell_type": "markdown",
   "metadata": {},
   "source": [
    "### File Handling"
   ]
  },
  {
   "cell_type": "markdown",
   "metadata": {},
   "source": [
    "# modes for handling files\n",
    "- r (reading)\n",
    "- w (writing)\n",
    "- r+(reading and writing)\n",
    "- w+(writing and reading)\n",
    "- a(appending)\n",
    "- x(exculding)"
   ]
  },
  {
   "cell_type": "code",
   "execution_count": 75,
   "metadata": {},
   "outputs": [
    {
     "name": "stdout",
     "output_type": "stream",
     "text": [
      "<_io.TextIOWrapper name='sampletext.txt' mode='w' encoding='cp1252'>\n"
     ]
    }
   ],
   "source": [
    "#w mode\n",
    "f=open(\"sampletext.txt\",'w')\n",
    "print(f)"
   ]
  },
  {
   "cell_type": "code",
   "execution_count": 79,
   "metadata": {},
   "outputs": [],
   "source": [
    "#another method\n",
    "with open(\"sampletext.txt\",'w') as f:\n",
    "    f.write(\"Hello Python proghramming\")\n",
    "    f.write(\"\\nSummer online\")"
   ]
  },
  {
   "cell_type": "code",
   "execution_count": 81,
   "metadata": {},
   "outputs": [],
   "source": [
    "#another method\n",
    "with open(\"sampletext.txt\",'w') as f:\n",
    "    f.write(\"\\n Apssdc\")"
   ]
  },
  {
   "cell_type": "code",
   "execution_count": 83,
   "metadata": {},
   "outputs": [],
   "source": [
    "#another method with append mode\n",
    "with open(\"sampletext.txt\",'a') as f:\n",
    "    f.write(\"\\nstay safe\")\n",
    "    f.write(\"\\nChecking\")"
   ]
  },
  {
   "cell_type": "code",
   "execution_count": 87,
   "metadata": {},
   "outputs": [
    {
     "name": "stdout",
     "output_type": "stream",
     "text": [
      "hel\n"
     ]
    },
    {
     "data": {
      "text/plain": [
       "'lo\\ngo'"
      ]
     },
     "execution_count": 87,
     "metadata": {},
     "output_type": "execute_result"
    }
   ],
   "source": [
    "# read \n",
    "f=open(\"sample1.txt\",'r')\n",
    "print(f.read(3))\n",
    "f.read(5)"
   ]
  },
  {
   "cell_type": "code",
   "execution_count": 88,
   "metadata": {},
   "outputs": [
    {
     "data": {
      "text/plain": [
       "8"
      ]
     },
     "execution_count": 88,
     "metadata": {},
     "output_type": "execute_result"
    }
   ],
   "source": [
    "f.tell() #cuirsor position"
   ]
  },
  {
   "cell_type": "code",
   "execution_count": 89,
   "metadata": {},
   "outputs": [
    {
     "data": {
      "text/plain": [
       "['od evening\\n', 'welcome back\\n']"
      ]
     },
     "execution_count": 89,
     "metadata": {},
     "output_type": "execute_result"
    }
   ],
   "source": [
    "f.readlines()"
   ]
  },
  {
   "cell_type": "code",
   "execution_count": 95,
   "metadata": {},
   "outputs": [
    {
     "name": "stdout",
     "output_type": "stream",
     "text": [
      "['hello\\n', 'good evening\\n', 'welcome back\\n']\n"
     ]
    }
   ],
   "source": [
    "#lines accessing\n",
    "with open(\"sample1.txt\",'r') as f:\n",
    "    print(f.readlines())\n",
    "f.close()"
   ]
  },
  {
   "cell_type": "code",
   "execution_count": 96,
   "metadata": {},
   "outputs": [],
   "source": [
    "#task\n",
    "#word count\n",
    "#line count\n",
    "# characters count"
   ]
  },
  {
   "cell_type": "code",
   "execution_count": null,
   "metadata": {},
   "outputs": [],
   "source": []
  }
 ],
 "metadata": {
  "kernelspec": {
   "display_name": "Python 3",
   "language": "python",
   "name": "python3"
  },
  "language_info": {
   "codemirror_mode": {
    "name": "ipython",
    "version": 3
   },
   "file_extension": ".py",
   "mimetype": "text/x-python",
   "name": "python",
   "nbconvert_exporter": "python",
   "pygments_lexer": "ipython3",
   "version": "3.7.6"
  }
 },
 "nbformat": 4,
 "nbformat_minor": 4
}
